{
 "cells": [
  {
   "cell_type": "code",
   "execution_count": null,
   "id": "3048ed25",
   "metadata": {},
   "outputs": [],
   "source": [
    "import random  # we will be mainly using the randint function from this module\n",
    "import sys # we will be using the exit funcitonfrom the sys module to exit out of the game in some game situation\n",
    " \n",
    "print(sys.version) # please ignore this? only for knowing the version of your python iterpreter\n",
    " # Today we are going to build(code it) a 2v2 player Tic Tac Toe game \n",
    "# i have done this in  the juypter notebook you can use any code editors for this\n",
    "\n",
    "def display_board(board):\n",
    "    # displaying the board\n",
    "    print('   |   |')\n",
    "    print(' ' + board[7] + ' | ' + board[8] + ' | ' + board[9])\n",
    "    print('   |   |')\n",
    "    print('-----------')\n",
    "    print('   |   |')\n",
    "    print(' ' + board[4] + ' | ' + board[5] + ' | ' + board[6])\n",
    "    print('   |   |')\n",
    "    print('-----------')\n",
    "    print('   |   |')\n",
    "    print(' ' + board[1] + ' | ' + board[2] + ' | ' + board[3])\n",
    "    print('   |   |')\n",
    "\n",
    "test_board = ['#','X','O','X','O','X','O','X','O','X'] # we will be passing this in the place of the board arugment \n"
   ]
  },
  {
   "cell_type": "code",
   "execution_count": null,
   "id": "24bd0e80",
   "metadata": {},
   "outputs": [],
   "source": [
    "def player_input():\n",
    "    # Asking the palyer if we wants to be X OR O\n",
    "    marker = ''\n",
    "    \n",
    "    while not (marker == 'X' or marker == 'O'):\n",
    "        marker = input('Player 1: Do you want to be X or O? ').upper()\n",
    "\n",
    "    if marker == 'X':\n",
    "        return ('X', 'O')\n",
    "    else:\n",
    "        return ('O', 'X')"
   ]
  },
  {
   "cell_type": "code",
   "execution_count": null,
   "id": "dad10601",
   "metadata": {},
   "outputs": [],
   "source": [
    "def place_marker(board, marker, position): \n",
    "    # displaying our input on the virtual Tic tac toe board\n",
    "    board[position] = marker"
   ]
  },
  {
   "cell_type": "code",
   "execution_count": null,
   "id": "d13743c5",
   "metadata": {},
   "outputs": [],
   "source": [
    "def win_check(board,mark):\n",
    "    # checking if anyone as won the game\n",
    "    \n",
    "    return ((board[7] == mark and board[8] == mark and board[9] == mark) or # across the top\n",
    "    (board[4] == mark and board[5] == mark and board[6] == mark) or # across the middle\n",
    "    (board[1] == mark and board[2] == mark and board[3] == mark) or # across the bottom\n",
    "    (board[7] == mark and board[4] == mark and board[1] == mark) or # down the middle\n",
    "    (board[8] == mark and board[5] == mark and board[2] == mark) or # down the middle\n",
    "    (board[9] == mark and board[6] == mark and board[3] == mark) or # down the right side\n",
    "    (board[7] == mark and board[5] == mark and board[3] == mark) or # diagonal\n",
    "    (board[9] == mark and board[5] == mark and board[1] == mark)) # diagonal\n"
   ]
  },
  {
   "cell_type": "code",
   "execution_count": null,
   "id": "d90d84a8",
   "metadata": {},
   "outputs": [],
   "source": [
    "def choose_first():\n",
    "    # now we will be using the random module to determine which player is going to go first \n",
    "    if random.randint(0, 1) == 0:\n",
    "        return 'Player 2'\n",
    "    else:\n",
    "        return 'Player 1'\n"
   ]
  },
  {
   "cell_type": "code",
   "execution_count": null,
   "id": "0f1b4fba",
   "metadata": {},
   "outputs": [],
   "source": [
    "def space_check(board, position):\n",
    "    # this funcition will check if there is space on the board \n",
    "    \n",
    "    return board[position] == ' '\n"
   ]
  },
  {
   "cell_type": "code",
   "execution_count": null,
   "id": "bf2e870d",
   "metadata": {},
   "outputs": [],
   "source": [
    "def full_board_check(board):\n",
    "    for i in range(1,10):\n",
    "        if space_check(board, i):\n",
    "            return False\n",
    "    return True"
   ]
  },
  {
   "cell_type": "code",
   "execution_count": null,
   "id": "ccace3f1",
   "metadata": {},
   "outputs": [],
   "source": [
    "def player_choice(board):\n",
    "    # asking where the user want's to put his element on the virutal board\n",
    "    position = 0\n",
    "    \n",
    "    try: # using the try and except for any valueerror while the user types somthing instead of an integer\n",
    "        while position not in [1,2,3,4,5,6,7,8,9] or not space_check(board, position):\n",
    "            position = int(input('Choose your next position: (1-9) '))\n",
    "    except:\n",
    "        sys.exit(\"You Are cheating you can only input an integer\")\n",
    "        # the exit function in the sys module will allow us to exit out of the program\n",
    "    else:\n",
    "        return position"
   ]
  },
  {
   "cell_type": "code",
   "execution_count": null,
   "id": "551cb483",
   "metadata": {},
   "outputs": [],
   "source": [
    "def play_game_again():\n",
    "    # this funcition is going to ask if the user what's to play again\n",
    "    global input_play_again\n",
    "    run = True\n",
    "    while run :\n",
    "        input_play_again = input(\"Do You wanna play again? \")\n",
    "        if input_play_again == 'yes':\n",
    "            tic_tac_toe()\n",
    "        elif input_play_again == 'no':\n",
    "            sys.exit(\"bye Hope you enjoyed the game :)\")\n",
    "        else:\n",
    "            print(\"I don't know that\")\n",
    "            continue\n",
    "    run = False"
   ]
  },
  {
   "cell_type": "code",
   "execution_count": null,
   "id": "06861d24",
   "metadata": {},
   "outputs": [],
   "source": [
    "# From here the game shape start's\n",
    "def tic_tac_toe():\n",
    "    game_on = True\n",
    "    # this is where we start building our game logic\n",
    "    # the game logic begins :)\n",
    "    print('===================================================== Tic Tac Toe =====================================================')\n",
    "    while True:\n",
    "        # Reset the board\n",
    "        play_game = input('Do You wanna play? ') # asking user if we whants to play \n",
    "         \n",
    "        if play_game == 'yes':\n",
    "            theBoard = [' '] * 10\n",
    "            player1_marker, player2_marker = player_input()\n",
    "            turn = choose_first()\n",
    "            print(f\"==================================={turn}===================================\")\n",
    "            \n",
    "        else:\n",
    "            sys.exit(\"nye please come back again\")\n",
    "\n",
    "        while game_on:\n",
    "            if turn == 'Player 1':\n",
    "                # Player1's turn.\n",
    "                display_board(theBoard)\n",
    "                position = player_choice(theBoard)\n",
    "                place_marker(theBoard, player1_marker, position)\n",
    "\n",
    "                if win_check(theBoard, player1_marker):\n",
    "                    display_board(theBoard)\n",
    "                    print('Congratulations! You have won the game!')\n",
    "                    play_game_again()\n",
    "                    \n",
    "                else:\n",
    "                    if full_board_check(theBoard):\n",
    "                        display_board(theBoard)\n",
    "                        print('The game is a draw :(')\n",
    "                        play_game_again()\n",
    "                        \n",
    "                    else:\n",
    "                        turn = 'Player 2'\n",
    "\n",
    "            else:\n",
    "                # Player2's turn.\n",
    "                \n",
    "                display_board(theBoard)\n",
    "                position = player_choice(theBoard)\n",
    "                place_marker(theBoard, player2_marker, position)\n",
    "\n",
    "                if win_check(theBoard, player2_marker):\n",
    "                    display_board(theBoard)\n",
    "                    print('Player 2 has won!')\n",
    "                    play_game_again()\n",
    "                else:\n",
    "                    if full_board_check(theBoard):\n",
    "                        display_board(theBoard)\n",
    "                        print('The game is a draw!')\n",
    "                        play_game_again()\n",
    "                        \n",
    "                    else:\n",
    "                        turn = 'Player 1'\n"
   ]
  },
  {
   "cell_type": "code",
   "execution_count": null,
   "id": "07c34c6c",
   "metadata": {},
   "outputs": [],
   "source": [
    "if __name__ == \"__main__\":\n",
    "    tic_tac_toe()\n",
    "# this is all the game logic it was really fun creating the game :) "
   ]
  }
 ],
 "metadata": {
  "kernelspec": {
   "display_name": "Python 3 (ipykernel)",
   "language": "python",
   "name": "python3"
  },
  "language_info": {
   "codemirror_mode": {
    "name": "ipython",
    "version": 3
   },
   "file_extension": ".py",
   "mimetype": "text/x-python",
   "name": "python",
   "nbconvert_exporter": "python",
   "pygments_lexer": "ipython3",
   "version": "3.9.7"
  }
 },
 "nbformat": 4,
 "nbformat_minor": 5
}
